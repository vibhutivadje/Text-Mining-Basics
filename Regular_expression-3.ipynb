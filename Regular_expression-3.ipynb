{
 "cells": [
  {
   "cell_type": "markdown",
   "metadata": {},
   "source": [
    "# 1. re"
   ]
  },
  {
   "cell_type": "code",
   "execution_count": 1,
   "metadata": {},
   "outputs": [
    {
     "data": {
      "text/plain": [
       "'\\nIdentifiers:\\n\\\\d = matches any single digit number\\n\\\\D = anything but not a number\\n\\\\s = space\\n\\\\S = anything but not a  space\\n\\\\w = any letter(one digit or one letter. 2,t)\\n\\\\W = anything but a letter\\n. = any character, except for a new line\\n\\x08 = space around whole words\\n\\\\. = period. must use backslash, because . normally means any character.\\n\\nModifiers:\\n#modiifers are to be placed after a symbol\\n{1,3} = for digits, u expect 1-3 counts of digits, or \"places\"\\n\\n+ = match 1 or more\\n? = match 0 or 1 repetitions.\\n* = match 0 or MORE repetitions\\n\\n$ = matches at the end of string\\n^ = matches start of a string\\n| = matches either/or. Example x|y = will match either x or y\\n[] = range, or \"variance\".[xyz] means x or y or z\\n{x} = expect to see this amount of the preceding code.\\n{3} - specific count of something exact 3\\n{1,3} : 1 to 3 something\\n{2,} : more than 2\\n{,4} : up to 4 of something\\n{x,y} = expect to see this x-y amounts of the precedng code\\n'"
      ]
     },
     "execution_count": 1,
     "metadata": {},
     "output_type": "execute_result"
    }
   ],
   "source": [
    "'''\n",
    "Identifiers:\n",
    "\\d = matches any single digit number\n",
    "\\D = anything but not a number\n",
    "\\s = space\n",
    "\\S = anything but not a  space\n",
    "\\w = any letter(one digit or one letter. 2,t)\n",
    "\\W = anything but a letter\n",
    ". = any character, except for a new line\n",
    "\\b = space around whole words\n",
    "\\. = period. must use backslash, because . normally means any character.\n",
    "\n",
    "Modifiers:\n",
    "#modiifers are to be placed after a symbol\n",
    "{1,3} = for digits, u expect 1-3 counts of digits, or \"places\"\n",
    "\n",
    "+ = match 1 or more\n",
    "? = match 0 or 1 repetitions.\n",
    "* = match 0 or MORE repetitions\n",
    "\n",
    "$ = matches at the end of string\n",
    "^ = matches start of a string\n",
    "| = matches either/or. Example x|y = will match either x or y\n",
    "[] = range, or \"variance\".[xyz] means x or y or z\n",
    "{x} = expect to see this amount of the preceding code.\n",
    "{3} - specific count of something exact 3\n",
    "{1,3} : 1 to 3 something\n",
    "{2,} : more than 2\n",
    "{,4} : up to 4 of something\n",
    "{x,y} = expect to see this x-y amounts of the precedng code\n",
    "'''"
   ]
  },
  {
   "cell_type": "code",
   "execution_count": 2,
   "metadata": {},
   "outputs": [
    {
     "name": "stdout",
     "output_type": "stream",
     "text": [
      "['101', 'COM', '', '', '', 'Computers', '205', 'MAT', '', '', 'Mathematics', '89', 'ENG', '', '', 'English']\n"
     ]
    }
   ],
   "source": [
    "import re\n",
    "text=\"101 COM    Computers 205 MAT   Mathematics 89 ENG   English\"\n",
    "result1=re.split('\\s',text) # split the text with a single space\n",
    "print(result1)"
   ]
  },
  {
   "cell_type": "code",
   "execution_count": 3,
   "metadata": {},
   "outputs": [
    {
     "name": "stdout",
     "output_type": "stream",
     "text": [
      "['101', 'COM', 'Computers', '205', 'MAT', 'Mathematics', '89', 'ENG', 'English']\n"
     ]
    }
   ],
   "source": [
    "result2=re.split('\\s+',text) # split the text with one or more space\n",
    "print(result2) # somehow like a tokenization"
   ]
  },
  {
   "cell_type": "code",
   "execution_count": 4,
   "metadata": {},
   "outputs": [
    {
     "name": "stdout",
     "output_type": "stream",
     "text": [
      "['1', '0', '1', '2', '0', '5', '8', '9']\n"
     ]
    }
   ],
   "source": [
    "result3=re.findall('\\d',text) # find out all the numbers, check the result see if this is what you want\n",
    "print(result3)"
   ]
  },
  {
   "cell_type": "code",
   "execution_count": 5,
   "metadata": {},
   "outputs": [
    {
     "name": "stdout",
     "output_type": "stream",
     "text": [
      "['101', '205']\n"
     ]
    }
   ],
   "source": [
    "result4=re.findall('\\d{3}',text) # find out numbers with 1 to 3 digits\n",
    "print(result4)"
   ]
  },
  {
   "cell_type": "code",
   "execution_count": 6,
   "metadata": {},
   "outputs": [
    {
     "name": "stdout",
     "output_type": "stream",
     "text": [
      "['101', '205', '89']\n"
     ]
    }
   ],
   "source": [
    "result4=re.findall('\\d{1,3}',text) # find out numbers with 1 to 3 digits\n",
    "print(result4)"
   ]
  },
  {
   "cell_type": "code",
   "execution_count": 7,
   "metadata": {},
   "outputs": [
    {
     "name": "stdout",
     "output_type": "stream",
     "text": [
      "['101', '205', '89']\n"
     ]
    }
   ],
   "source": [
    "result4=re.findall('\\d+',text) # this is the same, match 1 or more\n",
    "print(result4)"
   ]
  },
  {
   "cell_type": "code",
   "execution_count": 8,
   "metadata": {},
   "outputs": [
    {
     "name": "stdout",
     "output_type": "stream",
     "text": [
      "['1', '0', '1', '', '', '', '', '', '', '', '', '', '', '', '', '', '', '', '', '', '', '2', '0', '5', '', '', '', '', '', '', '', '', '', '', '', '', '', '', '', '', '', '', '', '8', '9', '', '', '', '', '', '', '', '', '', '', '', '', '', '', '']\n"
     ]
    }
   ],
   "source": [
    "result4=re.findall('\\d?',text) # not work, 0 or 1 match\n",
    "print(result4)"
   ]
  },
  {
   "cell_type": "code",
   "execution_count": 9,
   "metadata": {},
   "outputs": [
    {
     "name": "stdout",
     "output_type": "stream",
     "text": [
      "['101', '', '', '', '', '', '', '', '', '', '', '', '', '', '', '', '', '', '', '205', '', '', '', '', '', '', '', '', '', '', '', '', '', '', '', '', '', '', '', '89', '', '', '', '', '', '', '', '', '', '', '', '', '', '', '']\n"
     ]
    }
   ],
   "source": [
    "result4=re.findall('\\d*',text) # 0 or more match, not work, need to pay attention to the modifier\n",
    "print(result4)"
   ]
  },
  {
   "cell_type": "code",
   "execution_count": 10,
   "metadata": {},
   "outputs": [
    {
     "name": "stdout",
     "output_type": "stream",
     "text": [
      "['1', '0', '1', 'C', 'O', 'M', 'C', 'o', 'm', 'p', 'u', 't', 'e', 'r', 's', '2', '0', '5', 'M', 'A', 'T', 'M', 'a', 't', 'h', 'e', 'm', 'a', 't', 'i', 'c', 's', '8', '9', 'E', 'N', 'G', 'E', 'n', 'g', 'l', 'i', 's', 'h']\n"
     ]
    }
   ],
   "source": [
    "result5=re.findall('\\w',text) # any letter include numbers check the results, not including punctuations & space\n",
    "print(result5)"
   ]
  },
  {
   "cell_type": "code",
   "execution_count": 11,
   "metadata": {},
   "outputs": [
    {
     "name": "stdout",
     "output_type": "stream",
     "text": [
      "['101', '', 'COM', '', '', '', '', 'Computers', '', '205', '', 'MAT', '', '', '', 'Mathematics', '', '89', '', 'ENG', '', '', '', 'English', '']\n"
     ]
    }
   ],
   "source": [
    "result6=re.findall('\\w*',text) # notice that * means zero or more consequtive words or numbers\n",
    "print(result6)"
   ]
  },
  {
   "cell_type": "code",
   "execution_count": 12,
   "metadata": {},
   "outputs": [
    {
     "name": "stdout",
     "output_type": "stream",
     "text": [
      "['101', 'COM', 'Computers', '205', 'MAT', 'Mathematics', '89', 'ENG', 'English']\n"
     ]
    }
   ],
   "source": [
    "result6=re.findall('\\w+',text) # this will get rid of all empty spaces\n",
    "print(result6)"
   ]
  },
  {
   "cell_type": "code",
   "execution_count": 13,
   "metadata": {},
   "outputs": [
    {
     "name": "stdout",
     "output_type": "stream",
     "text": [
      "['COM', 'Computers', 'MAT', 'Mathematics', 'ENG', 'English']\n"
     ]
    }
   ],
   "source": [
    "# all the course numbers and the words are mixed. How to get pure words?\n",
    "result7=re.findall('[A-z]+',text) #+ means 1 or more, and [a-z] specifies that what we need is lower case characters\n",
    "print(result7)"
   ]
  },
  {
   "cell_type": "code",
   "execution_count": 14,
   "metadata": {},
   "outputs": [
    {
     "name": "stdout",
     "output_type": "stream",
     "text": [
      "['101', 'omputers', '205', 'athematics', '89', 'nglish']\n"
     ]
    }
   ],
   "source": [
    "res =re.findall('[a-z0-9]+',text) #+ means 1 or more, and [a-z] specifies that what we need is lower case characters\n",
    "print(res)"
   ]
  },
  {
   "cell_type": "code",
   "execution_count": 15,
   "metadata": {},
   "outputs": [
    {
     "name": "stdout",
     "output_type": "stream",
     "text": [
      "['COM', 'Computers', 'MAT', 'Mathematics', 'ENG', 'English']\n"
     ]
    }
   ],
   "source": [
    "res1 =re.findall('[A-za-z]+',text) #+ means 1 or more, and [a-z] specifies that what we need is lower case characters\n",
    "print(res1)"
   ]
  },
  {
   "cell_type": "code",
   "execution_count": 16,
   "metadata": {},
   "outputs": [
    {
     "name": "stdout",
     "output_type": "stream",
     "text": [
      "[]\n"
     ]
    }
   ],
   "source": [
    "result8=re.findall('\\[A-Z]+',text) #print only the capitalized words\n",
    "print(result8)"
   ]
  },
  {
   "cell_type": "code",
   "execution_count": 17,
   "metadata": {},
   "outputs": [
    {
     "name": "stdout",
     "output_type": "stream",
     "text": [
      "['C', 'O', 'M', 'C', 'o', 'm', 'p', 'u', 't', 'e', 'r', 's', 'M', 'A', 'T', 'M', 'a', 't', 'h', 'e', 'm', 'a', 't', 'i', 'c', 's', 'E', 'N', 'G', 'E', 'n', 'g', 'l', 'i', 's', 'h']\n"
     ]
    }
   ],
   "source": [
    "result9=re.findall('[a-z]|[A-Z]',text) #only letters, both capitalized nor lower case\n",
    "print(result9)"
   ]
  },
  {
   "cell_type": "code",
   "execution_count": 18,
   "metadata": {},
   "outputs": [
    {
     "name": "stdout",
     "output_type": "stream",
     "text": [
      "['Computers', 'Mathematics', 'English']\n"
     ]
    }
   ],
   "source": [
    "result10=re.findall('[A-Z][a-z]+',text) #one capitalized character followed by one or more lower case character\n",
    "print(result10)"
   ]
  },
  {
   "cell_type": "code",
   "execution_count": 19,
   "metadata": {},
   "outputs": [
    {
     "name": "stdout",
     "output_type": "stream",
     "text": [
      "['COM', 'MAT', 'ENG']\n"
     ]
    }
   ],
   "source": [
    "result11=re.findall('[A-Z]{3}',text) #exactly 3 capitalized characters placed together\n",
    "print(result11)"
   ]
  },
  {
   "cell_type": "code",
   "execution_count": 20,
   "metadata": {},
   "outputs": [
    {
     "name": "stdout",
     "output_type": "stream",
     "text": [
      "['COM', 'MAT', 'ENG']\n"
     ]
    }
   ],
   "source": [
    "result12=re.findall('[A-Z]{2,}',text) # more than 1 (starting from 2) capitalized characters are placed together\n",
    "print(result12)"
   ]
  },
  {
   "cell_type": "code",
   "execution_count": 21,
   "metadata": {},
   "outputs": [
    {
     "name": "stdout",
     "output_type": "stream",
     "text": [
      "['101', 'COM', 'Computers', '205', 'MAT', 'Mathematics', '89', 'ENG', 'English']\n"
     ]
    }
   ],
   "source": [
    "#captures everything. same as '\\w+'\n",
    "result13=re.findall('[A-Za-z0-9]+',text) # get any chunk of texts, no matter it is a word or a number, or anything\n",
    "print(result13)"
   ]
  },
  {
   "cell_type": "code",
   "execution_count": 22,
   "metadata": {},
   "outputs": [
    {
     "name": "stdout",
     "output_type": "stream",
     "text": [
      "['101 COM    Computers 205 MAT   Mathematics 89 ENG   English']\n"
     ]
    }
   ],
   "source": [
    "result14=re.findall('.+',text) #get everything, think about why '.*' will always provides an empty element?\n",
    "print(result14)"
   ]
  },
  {
   "cell_type": "code",
   "execution_count": 23,
   "metadata": {},
   "outputs": [
    {
     "name": "stdout",
     "output_type": "stream",
     "text": [
      "['COM']\n"
     ]
    }
   ],
   "source": [
    "result15=re.findall('COM',text) #get exactly what inside the '' using a \"r\" in the front. \n",
    "#For example, \\ is just a backslash when prefixed with a r rather than being interpreted as an escape sequence.\n",
    "print(result15)"
   ]
  },
  {
   "cell_type": "code",
   "execution_count": 26,
   "metadata": {},
   "outputs": [
    {
     "name": "stdout",
     "output_type": "stream",
     "text": [
      "['MAT']\n",
      "['ENG']\n"
     ]
    }
   ],
   "source": [
    "# the use of parenthesis in regular expression\n",
    "# type 1: capturing, it will capture the matched pattern in the full regular expression and only return the match part\n",
    "result16=re.findall('205 ([A-Z]+)',text) #get name of the course 205. \"205 \" matches exactly the 205 and a space, what is inside matches one or more capitalized characters.\n",
    "print(result16)\n",
    "result17=re.findall('89 ([A-Z]+)',text) #similarly, get the course name of course 89\n",
    "print(result17)"
   ]
  },
  {
   "cell_type": "code",
   "execution_count": null,
   "metadata": {},
   "outputs": [],
   "source": [
    "# IMP : to capture everything in between A and B\n",
    "#version1: .* diligent version of everything\n",
    "#version1: .*? lazy version of everything "
   ]
  },
  {
   "cell_type": "code",
   "execution_count": 11,
   "metadata": {},
   "outputs": [
    {
     "name": "stdout",
     "output_type": "stream",
     "text": [
      "['UA400 today and flight UA500']\n",
      "['UA400', 'UA500']\n"
     ]
    }
   ],
   "source": [
    "text = 'I took flight UA400 today and flight UA500 today'\n",
    "res1 = re.findall('flight (.*) today',text)\n",
    "print(res1)\n",
    "res1 = re.findall('flight (.*?) today',text)\n",
    "print(res1)"
   ]
  },
  {
   "cell_type": "markdown",
   "metadata": {},
   "source": [
    "<!-- # *********************IMP**********************\n",
    "# .* diligent version of everything\n",
    "# .*? lazy version of everything -->"
   ]
  },
  {
   "cell_type": "code",
   "execution_count": 28,
   "metadata": {},
   "outputs": [
    {
     "name": "stdout",
     "output_type": "stream",
     "text": [
      "[\"'t\"]\n"
     ]
    }
   ],
   "source": [
    "text1=\"can can't can' cant\"\n",
    "test1=re.findall(\"can('t)+\",text1) # this time we need to use double quotation.\n",
    "print(test1) # only the 't is matched and returned\n",
    "\n"
   ]
  },
  {
   "cell_type": "code",
   "execution_count": 30,
   "metadata": {},
   "outputs": [
    {
     "name": "stdout",
     "output_type": "stream",
     "text": [
      "[\"can't\"]\n"
     ]
    }
   ],
   "source": [
    "# type 2: non-capturing\n",
    "text1=\"can can't can' cant\"\n",
    "test1=re.findall(\"can(?:'t)+\",text1)  # when adding ?:, the regular expression only group the patterns inside the parenthesis and apply the modifier\n",
    "print(test1)"
   ]
  },
  {
   "cell_type": "code",
   "execution_count": 31,
   "metadata": {},
   "outputs": [
    {
     "name": "stdout",
     "output_type": "stream",
     "text": [
      "['Mt', 'Tg']\n"
     ]
    }
   ],
   "source": [
    "# suppose you want to extract the course names with one capitalized letter plus one lower case letter such as MgMt and MkTg\n",
    "text2=\"MgMt 330, ITM 336, MkTg 447\"\n",
    "test2=re.findall(\"([A-Z][a-z])+\",text2)  # this is wrong because the parenthesis here means capturing, It will capture the \"Mt\" and \"Tg\"\n",
    "print(test2)\n"
   ]
  },
  {
   "cell_type": "code",
   "execution_count": 33,
   "metadata": {},
   "outputs": [
    {
     "name": "stdout",
     "output_type": "stream",
     "text": [
      "['MgMt', 'MkTg']\n"
     ]
    }
   ],
   "source": [
    "correct=re.findall(\"(?:[A-Z][a-z])+\",text2) \n",
    "# converting non-capturing, this means many instances of one capitalized letter plus one lower case letter\n",
    "print(correct)"
   ]
  },
  {
   "cell_type": "code",
   "execution_count": 2,
   "metadata": {},
   "outputs": [
    {
     "name": "stdout",
     "output_type": "stream",
     "text": [
      "['(510)772-8823', '(510)772-8823']\n"
     ]
    }
   ],
   "source": [
    "# what if we want to match a literal parenthesis?\n",
    "text3=\"(510)772-8823, is a phone number\"\n",
    "# text3=\"(510)772-8823,(510)772-8823\"\n",
    "\n",
    "test3=re.findall(\"\\(\\d+\\)\\d+-\\d+\",text3)  # \\( and \\) means literal parenthesis\n",
    "print(test3)\n"
   ]
  },
  {
   "cell_type": "code",
   "execution_count": 35,
   "metadata": {},
   "outputs": [
    {
     "name": "stdout",
     "output_type": "stream",
     "text": [
      "['510']\n"
     ]
    }
   ],
   "source": [
    "# now what if you only want to extract the area code?\n",
    "#test4=re.findall(\"\\((\\d+)\\)\\d+-\\d+\",text3) # you may just use a capturing parenthesis inside a pair of literal parenthesis\n",
    "test4=re.findall(\"\\((\\d+)\\)\",text3)\n",
    "print(test4)"
   ]
  },
  {
   "cell_type": "markdown",
   "metadata": {},
   "source": [
    "# 2. some applications of re in text mining\n"
   ]
  },
  {
   "cell_type": "code",
   "execution_count": 1,
   "metadata": {},
   "outputs": [
    {
     "name": "stdout",
     "output_type": "stream",
     "text": [
      "3\n",
      "0\n"
     ]
    }
   ],
   "source": [
    "# find out all vowels in the word\n",
    "import nltk\n",
    "import re\n",
    "word = 'we are taking text mining class'\n",
    "vowel=re.findall('[aeiou]', word)\n",
    "print(vowel.count('a'))\n",
    "print(vowel.count('u'))"
   ]
  },
  {
   "cell_type": "code",
   "execution_count": 37,
   "metadata": {},
   "outputs": [
    {
     "name": "stdout",
     "output_type": "stream",
     "text": [
      "process\n"
     ]
    }
   ],
   "source": [
    "# building a stemmer without regular expression\n",
    "def stem(word):\n",
    "    for suffix in ['ing','ly','ed','ious','ies','ive','es','s','ment']:\n",
    "        if word.endswith(suffix):\n",
    "            return word[:-len(suffix)]\n",
    "x=stem(\"processing\")\n",
    "print(x)"
   ]
  },
  {
   "cell_type": "code",
   "execution_count": 18,
   "metadata": {},
   "outputs": [
    {
     "name": "stdout",
     "output_type": "stream",
     "text": [
      "process\n"
     ]
    }
   ],
   "source": [
    "# building a stemmer with regular expression\n",
    "\n",
    "import re\n",
    "def stem2(word):\n",
    "    suffix=re.findall('^.*(ing|ly|ed|ious|ies|ive|es|s|ment)$', word)\n",
    "    lenth=len(suffix[0]) # remember that suffix is a list, suffix[0] is the string we need\n",
    "    return word[:-lenth]\n",
    "print(stem2('processing'))\n",
    "\n",
    "# word = 'processing'\n",
    "# suffix=re.findall('^.*(ing|ly|ed|ious|ies|ive|es|s|ment)$', word)\n",
    "# # lenth=len(suffix[0])\n",
    "# print(suffix)"
   ]
  },
  {
   "cell_type": "code",
   "execution_count": 19,
   "metadata": {},
   "outputs": [
    {
     "name": "stdout",
     "output_type": "stream",
     "text": [
      "('process', 'ing')\n"
     ]
    }
   ],
   "source": [
    "# output both the stem and the suffix\n",
    "import re\n",
    "def stem3(word):\n",
    "    suffix=re.findall(r'^(.*)(ing|ly|ed|ious|ies|ive|es|s|ment)$', word)\n",
    "    return (suffix[0][0],suffix[0][1]) # suffix is a list of a tuple [('process', 'ing')]\n",
    "print(stem3('processing'))\n"
   ]
  },
  {
   "cell_type": "code",
   "execution_count": 20,
   "metadata": {},
   "outputs": [
    {
     "name": "stdout",
     "output_type": "stream",
     "text": [
      "('ing', 'process')\n"
     ]
    }
   ],
   "source": [
    "# another similar way\n",
    "import re\n",
    "def stem4(word):\n",
    "    suffix=re.findall(r'^(.*)(ing|ly|ed|ious|ies|ive|es|s|ment)$', word)\n",
    "    stem, suffix=suffix[0]\n",
    "    return suffix, stem\n",
    "print(stem4('processing'))"
   ]
  },
  {
   "cell_type": "markdown",
   "metadata": {},
   "source": [
    "# 3. match"
   ]
  },
  {
   "cell_type": "code",
   "execution_count": 21,
   "metadata": {},
   "outputs": [
    {
     "name": "stdout",
     "output_type": "stream",
     "text": [
      "no matched pattern\n",
      "None\n"
     ]
    }
   ],
   "source": [
    "#the re.match function will always search from the beginning of the string.\n",
    "#search searchs from anywhere.\n",
    "import re\n",
    "\n",
    "pattern='\\d{1,3}\\s[A-Z]+' #first describe the pattern with regular expression, a 1 to 3 digit number, and then a space, and then a couple of capitalized characters\n",
    "if re.match(pattern,text): \n",
    "    print(\"a match\")\n",
    "else: print(\"no matched pattern\")\n",
    "print(re.match(pattern,text))#now let us take a look at the components of the result. we have the span and the matched contents. But only for the first occurrence. 205 MAT also matches, but it is not reported\n"
   ]
  },
  {
   "cell_type": "code",
   "execution_count": 27,
   "metadata": {},
   "outputs": [
    {
     "name": "stdout",
     "output_type": "stream",
     "text": [
      "<re.Match object; span=(0, 7), match='101 COM'>\n"
     ]
    }
   ],
   "source": [
    "pattern='\\d{1,4}\\s[A-Z]+'\n",
    "print(re.match(pattern,text)) # only print the first match\n"
   ]
  },
  {
   "cell_type": "code",
   "execution_count": 28,
   "metadata": {},
   "outputs": [
    {
     "name": "stdout",
     "output_type": "stream",
     "text": [
      "None\n",
      "101 COM\n",
      "(0, 7)\n",
      "0\n",
      "7\n"
     ]
    }
   ],
   "source": [
    "text2=\"I took that course\"\n",
    "print(re.match(pattern,text2))#when nothing matches the pattern, return 'none'\n",
    "x=re.match(pattern,text)\n",
    "print(x.group()) #return the string matched\n",
    "print(x.span()) #also try the start(), end()\n",
    "print(x.start())\n",
    "print(x.end())"
   ]
  },
  {
   "cell_type": "code",
   "execution_count": 28,
   "metadata": {},
   "outputs": [
    {
     "name": "stdout",
     "output_type": "stream",
     "text": [
      "not found\n"
     ]
    }
   ],
   "source": [
    "#remake re.match using re.findall\n",
    "text = '1010 Math 102 Com 103 Mus'\n",
    "pattern='^\\d{3}\\s\\w+'\n",
    "if re.match(pattern,text):\n",
    "    x = re.search(pattern,text)\n",
    "    print('found,start from {}, ends at {}'.format(x.start(),x.end()))\n",
    "else:\n",
    "    print('not found')\n",
    "# print(re.findall(pattern,text))"
   ]
  },
  {
   "cell_type": "code",
   "execution_count": 30,
   "metadata": {},
   "outputs": [
    {
     "name": "stdout",
     "output_type": "stream",
     "text": [
      "found,start from 1, ends at 9\n"
     ]
    }
   ],
   "source": [
    "text = '1010 Math 102 Com 103 Mus'\n",
    "pattern='\\d{3}\\s\\w+'\n",
    "if re.search(pattern,text):\n",
    "    x = re.search(pattern,text)\n",
    "    print('found,start from {}, ends at {}'.format(x.start(),x.end()))\n",
    "else:\n",
    "    print('not found')\n"
   ]
  },
  {
   "cell_type": "code",
   "execution_count": 31,
   "metadata": {},
   "outputs": [
    {
     "name": "stdout",
     "output_type": "stream",
     "text": [
      "[]\n"
     ]
    }
   ],
   "source": [
    "text = '1010 Math 102 Com 103 Mus'\n",
    "pattern='^\\d{3}\\s\\w+'\n",
    "print(re.findall(pattern,text))"
   ]
  },
  {
   "cell_type": "code",
   "execution_count": 32,
   "metadata": {},
   "outputs": [
    {
     "name": "stdout",
     "output_type": "stream",
     "text": [
      "['010 Math', '102 Com', '103 Mus']\n"
     ]
    }
   ],
   "source": [
    "text = '1010 Math 102 Com 103 Mus'\n",
    "pattern='\\d{3}\\s\\w+'\n",
    "print(re.findall(pattern,text))"
   ]
  },
  {
   "cell_type": "markdown",
   "metadata": {},
   "source": [
    "# 4. beginning and end of a text string\n"
   ]
  },
  {
   "cell_type": "code",
   "execution_count": 42,
   "metadata": {},
   "outputs": [
    {
     "name": "stdout",
     "output_type": "stream",
     "text": [
      "abandoned\n",
      "abraised\n",
      "closed\n"
     ]
    }
   ],
   "source": [
    "import re\n",
    "import nltk\n",
    "text='abandoned, abandon, help, abraised, open, closed'\n",
    "wordlist=nltk.word_tokenize(text)\n",
    "for w in wordlist:\n",
    "    if re.search('ed$',w): # check if the word w ends with 'ed'\n",
    "        print(w)"
   ]
  },
  {
   "cell_type": "code",
   "execution_count": 43,
   "metadata": {},
   "outputs": [
    {
     "name": "stdout",
     "output_type": "stream",
     "text": [
      "abandoned\n",
      "abraised\n",
      "closed\n"
     ]
    }
   ],
   "source": [
    "# same as \n",
    "for w in wordlist:\n",
    "    if re.search('ed$',w)!=None: # check if the word w ends with 'ed'\n",
    "        print(w)"
   ]
  },
  {
   "cell_type": "code",
   "execution_count": 69,
   "metadata": {},
   "outputs": [
    {
     "name": "stdout",
     "output_type": "stream",
     "text": [
      "w\n"
     ]
    }
   ],
   "source": [
    "# check this\n",
    "if \"what\":\n",
    "    print('w')\t# print w\n",
    "\n",
    "if \"\":\n",
    "    print('w') # don't print w"
   ]
  },
  {
   "cell_type": "code",
   "execution_count": 45,
   "metadata": {},
   "outputs": [
    {
     "name": "stdout",
     "output_type": "stream",
     "text": [
      "abandoned\n",
      "abandon\n",
      "abraised\n"
     ]
    }
   ],
   "source": [
    "for w in wordlist:\n",
    "    if re.search('^ab',w): # check if the word starts with \"ab\"\n",
    "        print(w)"
   ]
  },
  {
   "cell_type": "code",
   "execution_count": 46,
   "metadata": {},
   "outputs": [
    {
     "name": "stdout",
     "output_type": "stream",
     "text": [
      "dejected\n",
      "injector\n",
      "majestic\n"
     ]
    }
   ],
   "source": [
    "import re\n",
    "import nltk\n",
    "text='dejected, object, inject, injector, majestic, majestically'\n",
    "wordlist=nltk.word_tokenize(text)\n",
    "for w in wordlist:\n",
    "    if re.search('^..j..t..$',w): #remember, . stands for anything\n",
    "        print(w)"
   ]
  },
  {
   "cell_type": "markdown",
   "metadata": {},
   "source": [
    "# 5. search"
   ]
  },
  {
   "cell_type": "code",
   "execution_count": 48,
   "metadata": {},
   "outputs": [],
   "source": [
    "# the re.search function searches the entire documents\n",
    "pattern='\\d{1,3}\\s[A-Z]+'\n",
    "text3=\"1010 COM    Computers 101 MAT   Mathematics\" #swith the numbers\n"
   ]
  },
  {
   "cell_type": "code",
   "execution_count": 49,
   "metadata": {},
   "outputs": [
    {
     "name": "stdout",
     "output_type": "stream",
     "text": [
      "None\n"
     ]
    }
   ],
   "source": [
    "print(re.match(pattern,text3)) #After swiching the numbers, it returns a \"none\", since match function always start from the 1st character.\n"
   ]
  },
  {
   "cell_type": "code",
   "execution_count": 50,
   "metadata": {},
   "outputs": [
    {
     "name": "stdout",
     "output_type": "stream",
     "text": [
      "<re.Match object; span=(1, 8), match='010 COM'>\n"
     ]
    }
   ],
   "source": [
    "print(re.search(pattern,text3)) #no problem with search, start counting from the 2nd character.\n"
   ]
  },
  {
   "cell_type": "code",
   "execution_count": 51,
   "metadata": {},
   "outputs": [
    {
     "name": "stdout",
     "output_type": "stream",
     "text": [
      "[]\n"
     ]
    }
   ],
   "source": [
    "print(re.findall('\\d{1,3}\\s[A-Z]+',text)) #we can replicate the function of match using this, but sometimes it is simpler by just using the match\n"
   ]
  },
  {
   "cell_type": "code",
   "execution_count": 52,
   "metadata": {},
   "outputs": [
    {
     "name": "stdout",
     "output_type": "stream",
     "text": [
      "didn't find a match\n"
     ]
    }
   ],
   "source": [
    "if len(re.findall('\\d{1,3}\\s[A-Z]+',text))>0:\n",
    "    print(\"found a match\")\n",
    "else:\n",
    "    print(\"didn't find a match\")"
   ]
  },
  {
   "cell_type": "code",
   "execution_count": 53,
   "metadata": {},
   "outputs": [
    {
     "name": "stdout",
     "output_type": "stream",
     "text": [
      "['gold', 'hold']\n"
     ]
    }
   ],
   "source": [
    "# but sometimes it is more convenient to use re.search\n",
    "import re\n",
    "wordlist=['gold','golf','hold','hole']\n",
    "y=[w for w in wordlist if re.search('^..[ilj][bcd]',w)!=None]\n",
    "print(y)"
   ]
  },
  {
   "cell_type": "code",
   "execution_count": 54,
   "metadata": {},
   "outputs": [],
   "source": [
    "# an corpus about onling chatting\n",
    "import nltk\n"
   ]
  },
  {
   "cell_type": "code",
   "execution_count": 55,
   "metadata": {},
   "outputs": [
    {
     "name": "stdout",
     "output_type": "stream",
     "text": [
      "[['now', 'im', 'left', 'with', 'this', 'gay', 'name'], [':P'], ...]\n",
      "['now', 'im', 'left', 'with', 'this', 'gay', 'name']\n",
      "[['now', 'im', 'left', 'with', 'this', 'gay', 'name'], [':P'], ['PART']]\n"
     ]
    }
   ],
   "source": [
    "thepost = nltk.corpus.nps_chat.posts()#onling chatting database\n",
    "print(thepost)\n",
    "print(thepost[0])\n",
    "print(thepost[0:3])\n"
   ]
  },
  {
   "cell_type": "code",
   "execution_count": 56,
   "metadata": {},
   "outputs": [
    {
     "name": "stdout",
     "output_type": "stream",
     "text": [
      "['now', 'im', 'left', 'with', 'this', 'gay', 'name', ...]\n",
      "45010\n"
     ]
    }
   ],
   "source": [
    "x=nltk.corpus.nps_chat.words() # nps is Naval Postgraduate School \n",
    "print(x)\n",
    "print(len(x)) # 10000 posts, about 40000 words"
   ]
  },
  {
   "cell_type": "code",
   "execution_count": 34,
   "metadata": {},
   "outputs": [
    {
     "name": "stdout",
     "output_type": "stream",
     "text": [
      "['mine', 'miiiiiinnnnnnnnnneeeeeeee', 'miiiiiiiiiiiiinnnnnnnnnnneeeeeeeeee', 'mmmmmmmmiiiiiiiiinnnnnnnnneeeeeeee']\n"
     ]
    }
   ],
   "source": [
    "# get the on-line chatting writing pattern\n",
    "import nltk\n",
    "import re\n",
    "chat_words=nltk.corpus.nps_chat.words()\n",
    "#chat_words=set(w for w in chat_words)#when you set the sequence of the sentence is disturbed\n",
    "chat_words = list(dict.fromkeys(chat_words))\n",
    "chat_words\n",
    "x=[w for w in chat_words if re.search('^m+i+n+e+$',w)!=None] # search for different writtings of 'mine'\n",
    "print(x)"
   ]
  },
  {
   "cell_type": "code",
   "execution_count": 36,
   "metadata": {},
   "outputs": [
    {
     "name": "stdout",
     "output_type": "stream",
     "text": [
      "['ah', 'haha', 'HAHAHA', 'ahah', 'yeah', 'yah', 'ahahah', 'hahah', 'hahaha', 'Ahh', 'HAHA', 'ahhhh', 'Yeah', 'ahhhhhh', 'remembah', 'ahhh', 'muahhhhh', 'muahhh', 'bahahahaa', 'hah', 'whoaaaaaaaaaaaa', 'othah', 'hahahaha', 'hahahahaaa', 'hahhahahaha', 'hahahhahah', 'blah', 'haaa', 'Bwhaha', 'nah', 'MUAH', 'bwahahahahahahahahahaha', 'muhaha', 'AHAHH', 'hahahahahaha', 'hahahaHA', 'jajajaaa', 'hahaaa', 'AHAHHA', 'AHHAH', 'Ahhhh', 'Norah', 'mah', 'ahh', 'woooooooooaaaahhhhhhhhhhhh', 'ahhhhhhhhhhhhhh', 'torah', 'nevah', 'Ahhh', 'hahahahahahaha', 'hahahahahahahahahahahahahahahaha', 'Whaaa', 'Haha', 'gotaa', 'waaa', 'aaaaaaaaaaaaaaaaa', 'raaaaaaaaaaaaaaaaaaaaaaaaaaaaa', 'alohaaa', 'Ah', 'hahahaa', 'MsUtah', 'evah', 'jerimiah', 'tah', 'thah', 'hahahah', 'ahhahahaha', 'aaahhhh', 'Hahaaaa', 'woah', 'Booyah', 'Hahhaa']\n"
     ]
    }
   ],
   "source": [
    "#expression for \"ah\",\"Ahhhhh\",\"aHahaha\",but not Hahaha\n",
    "not_ha = [w for w in chat_words if re.search('[Aa][HhAa]+$', w)]\n",
    "print(not_ha)"
   ]
  },
  {
   "cell_type": "code",
   "execution_count": 35,
   "metadata": {},
   "outputs": [
    {
     "name": "stdout",
     "output_type": "stream",
     "text": [
      "['ah', 'a', 'haha', 'ahah', 'ahahah', 'hahah', 'hahaha', 'ha', 'ahhhh', 'ahhhhhh', 'ahhh', 'hah', 'hahahaha', 'hahahahaaa', 'hahhahahaha', 'hahahhahah', 'haaa', 'hahahahahaha', 'hahaaa', 'h', 'ahh', 'ahhhhhhhhhhhhhh', 'hahahahahahaha', 'hahahahahahahahahahahahahahahaha', 'aaaaaaaaaaaaaaaaa', 'hahahaa', 'hahahah', 'ahhahahaha', 'aaahhhh']\n"
     ]
    }
   ],
   "source": [
    "z= [w for w in chat_words if re.search('^[ha]+$', w)!=None] # search for ah or ha\n",
    "print(z)"
   ]
  },
  {
   "cell_type": "code",
   "execution_count": 37,
   "metadata": {},
   "outputs": [
    {
     "name": "stdout",
     "output_type": "stream",
     "text": [
      "['1.99', '4.20', '39.3', '121.7', '64.8', '147.7', '45.5', '98.5', '1.98', '102.6', '98.6', '2.3', '9.53']\n"
     ]
    }
   ],
   "source": [
    "#exp:'^\\d*\\.\\d+$'\n",
    "w=[w for w in chat_words if re.search('^[0-9]+\\.[0-9]+$', w)!=None] # search for decimal numbers\n",
    "print(w)"
   ]
  },
  {
   "cell_type": "code",
   "execution_count": 40,
   "metadata": {},
   "outputs": [
    {
     "name": "stdout",
     "output_type": "stream",
     "text": [
      "['26', '29', '24', '14', '22', '31', '27', '8082653953', '30', '2', '18', '16', '8', '6', '0', '34', '1', '5', '220', '20', '80', '12', '1200', '90', '4', '49', '19', '10', '9', '13', '95953', '53', '2006', '59', '57', '41', '1980', '21', '99701', '55', '453', '138', '3', '43', '57401', '1299', '396', '36', '1900', '579', '11', '1930', '56', '39', '7', '360', '15', '17', '32', '33', '35', '47', '38', '23', '25', '50', '60', '1996', '75', '93', '73042', '1985', '33982', '29803', '92780', '28', '51', '818', '99703', '92129', '69', '300', '700', '295', '46', '77', '37', '100', '28147', '45', '224', '423', '99', '280', '246', '3333333', '247', '185']\n"
     ]
    }
   ],
   "source": [
    "#exp:'^\\d*\\.\\d+$'\n",
    "op = [w for w in chat_words if re.search('^\\d+(?:\\,\\d)?$',w)!=None] # search for decimal numbers\n",
    "print(op)"
   ]
  },
  {
   "cell_type": "code",
   "execution_count": 38,
   "metadata": {},
   "outputs": [
    {
     "name": "stdout",
     "output_type": "stream",
     "text": [
      "['1200', '2006', '1980', '1299', '1900', '1930', '1996', '1985']\n"
     ]
    }
   ],
   "source": [
    "p=[w for w in chat_words if re.search('^[0-9]{4}$', w)!=None] # search for years\n",
    "print(p)"
   ]
  },
  {
   "cell_type": "code",
   "execution_count": 39,
   "metadata": {},
   "outputs": [
    {
     "name": "stdout",
     "output_type": "stream",
     "text": [
      "['e-bay', 'pro-se', 'b-day', 'no-no', 'x-mas', 'co-op', 'lucy-fur', 'z-ro', 'f-ing']\n"
     ]
    }
   ],
   "source": [
    "q= [w for w in chat_words if re.search('^[a-z]{,5}-[a-z]{2,3}$', w)!=None] # search for hyphen connected words \n",
    "print(q)"
   ]
  },
  {
   "cell_type": "code",
   "execution_count": 58,
   "metadata": {},
   "outputs": [],
   "source": [
    "chat_words=set(w for w in chat_words)"
   ]
  },
  {
   "cell_type": "code",
   "execution_count": 59,
   "metadata": {},
   "outputs": [],
   "source": [
    "import nltk\n",
    "import re"
   ]
  },
  {
   "cell_type": "code",
   "execution_count": 60,
   "metadata": {},
   "outputs": [
    {
     "name": "stdout",
     "output_type": "stream",
     "text": [
      "Object `: values beyond this becomes optional` not found.\n"
     ]
    }
   ],
   "source": [
    "?: values beyond this becomes optional\n",
    "eg: ('^\\d+(?:\\,\\d)?$',w)"
   ]
  },
  {
   "cell_type": "code",
   "execution_count": 61,
   "metadata": {},
   "outputs": [
    {
     "name": "stdout",
     "output_type": "stream",
     "text": [
      "['31', '45', '69', '4', '99701', '47', '818', '138', '295', '22', '16', '246', '100', '185', '1900', '49', '95953', '1985', '2006', '33982', '453', '39', '11', '41', '27', '73042', '28', '220', '55', '57', '1299', '90', '34', '3333333', '1930', '700', '77', '18', '396', '24', '224', '51', '53', '46', '75', '29803', '20', '423', '8', '7', '1980', '10', '2', '14', '43', '23', '25', '38', '1', '15', '579', '30', '29', '8082653953', '300', '360', '5', '280', '247', '36', '12', '99', '92129', '50', '92780', '80', '9', '3', '21', '56', '99703', '26', '37', '28147', '59', '1200', '93', '0', '1996', '33', '6', '57401', '13', '60', '19', '17', '32', '35']\n"
     ]
    }
   ],
   "source": [
    "#part after decimal is optional\n",
    "print([w for w in chat_words if re.search('^\\d+(?:\\,\\d+)?$', w)]) #first ? is grouping"
   ]
  },
  {
   "cell_type": "code",
   "execution_count": 62,
   "metadata": {},
   "outputs": [
    {
     "name": "stdout",
     "output_type": "stream",
     "text": [
      "['31', '45', '69', '4', '99701', '47', '818', '138', '295', '22', '16', '246', '100', '185', '1900', '49', '95953', '1985', '2006', '33982', '453', '39', '11', '41', '27', '73042', '28', '220', '55', '57', '1299', '90', '34', '3333333', '1930', '700', '77', '18', '396', '24', '224', '51', '53', '46', '75', '29803', '20', '423', '8', '7', '1980', '10', '2', '14', '43', '23', '25', '38', '1', '15', '579', '30', '29', '8082653953', '300', '360', '5', '280', '247', '36', '12', '99', '92129', '50', '92780', '80', '9', '3', '21', '56', '99703', '26', '37', '28147', '59', '1200', '93', '0', '1996', '33', '6', '57401', '13', '60', '19', '17', '32', '35']\n"
     ]
    }
   ],
   "source": [
    "print([w for w in chat_words if len(re.findall('^\\d+(?:\\,\\d+)?$', w))>0]) #first ? is grouping"
   ]
  },
  {
   "cell_type": "code",
   "execution_count": 63,
   "metadata": {},
   "outputs": [
    {
     "name": "stdout",
     "output_type": "stream",
     "text": [
      "['re-thinks', 'criss-cross', 'e-bay', 'born-again', 'f-ing', 'wed-lock', 'e-mail', 'z-ro', 'un-freeze', 'pro-se', 're-think', 'e-v-e-r-y', 'co-op', 'peace-and-quiet', 'T-Mobile', 'x-mas', 'non-smoker', 'k-mart', 'cho-co-la-te', 'cho-co-late', 'b-day', 'de-tubetop', 'K-Fed', 'cris-cross', 'anti-sexy', 'no-no', 't-shirt', 'e-husband', 'G-Mobile', 're-thinking', 'lucy-fur', 'Post-haste', 'e-herpes']\n"
     ]
    }
   ],
   "source": [
    "#search for dash connected values daughter-in-law,e-bay\n",
    "print([w for w in chat_words if re.search('^[a-zA-Z]+(?:-\\w+)+$', w)])"
   ]
  },
  {
   "cell_type": "code",
   "execution_count": 64,
   "metadata": {},
   "outputs": [
    {
     "name": "stdout",
     "output_type": "stream",
     "text": [
      "['S.M.R.', 'P.']\n"
     ]
    }
   ],
   "source": [
    "#abbreviations like U.S.A.\n",
    "print([w for w in chat_words if re.search('^(?:[A-Z]\\.)+$', w)])"
   ]
  },
  {
   "cell_type": "code",
   "execution_count": 65,
   "metadata": {},
   "outputs": [
    {
     "name": "stdout",
     "output_type": "stream",
     "text": [
      "['$27']\n"
     ]
    }
   ],
   "source": [
    "#currecny\n",
    "print([w for w in chat_words if re.search('^\\$\\d+(?:\\.\\d+)?$', w)])"
   ]
  },
  {
   "cell_type": "markdown",
   "metadata": {},
   "source": [
    "# 6. tokenize with re"
   ]
  },
  {
   "cell_type": "code",
   "execution_count": 114,
   "metadata": {},
   "outputs": [
    {
     "name": "stdout",
     "output_type": "stream",
     "text": [
      "['', 'Looking', '', 'for', 'work', 'or', 'have', 'a', 'Python', 'related', 'position', 'that', \"you're\", 'trying', 'to', 'hire', 'for?', 'Our', 'relaunched', 'community-run', 'job', 'board', 'is', 'the', 'place', 'to', 'go.', \"I'm\", 'good', 'at', 'python', '']\n",
      "['', 'Looking', 'for', 'work', 'or', 'have', 'a', 'Python', 'related', 'position', 'that', \"you're\", 'trying', 'to', 'hire', 'for?', 'Our', 'relaunched', 'community-run', 'job', 'board', 'is', 'the', 'place', 'to', 'go.', \"I'm\", 'good', 'at', 'python', '']\n",
      "['', 'Looking', 'for', 'work', 'or', 'have', 'a', 'Python', 'related', 'position', 'that', 'you', 're', 'trying', 'to', 'hire', 'for', 'Our', 'relaunched', 'community', 'run', 'job', 'board', 'is', 'the', 'place', 'to', 'go', 'I', 'm', 'good', 'at', 'python', '']\n"
     ]
    }
   ],
   "source": [
    "import re\n",
    "text='''\n",
    "Looking  for work or have a Python related position that you're trying to hire for?\n",
    "Our relaunched community-run job board is the place to go. I'm good at python\n",
    "'''\n",
    "print(re.split('\\s', text)) # a more generalized way is to use [ \\t\\n]+, one or more spaces, tabs, new line symbols\n",
    "print(re.split('[ \\t\\n]+', text))\n",
    "print(re.split('\\W+', text)) # split on any non-words\n"
   ]
  },
  {
   "cell_type": "code",
   "execution_count": null,
   "metadata": {},
   "outputs": [],
   "source": [
    "'''\n",
    "([A-Z]\\.)+ # abbreviations, e.g. U.S.A.\n",
    "\\w+(-\\w+)* # words with optional internal hyphens\n",
    "\\$?\\d+(\\.\\d+)?%? # currency and percentages, e.g. $12.40, 82%\n",
    "\\.\\.\\. # ellipsis\n",
    "[.,;\"'?():-_`] # these are separate tokens\n",
    "'''"
   ]
  },
  {
   "cell_type": "code",
   "execution_count": 1,
   "metadata": {},
   "outputs": [
    {
     "name": "stdout",
     "output_type": "stream",
     "text": [
      "['U.S.A']\n"
     ]
    }
   ],
   "source": [
    "# abbreviations, e.g. U.S.A.\n",
    "import re\n",
    "text='U.S.A is united states'\n",
    "y=re.findall('(?:[A-Z]\\.)+[A-Z]',text)\n",
    "print(y)"
   ]
  },
  {
   "cell_type": "code",
   "execution_count": 2,
   "metadata": {},
   "outputs": [
    {
     "name": "stdout",
     "output_type": "stream",
     "text": [
      "['e', 'bay', 'is', 'a', 'company']\n",
      "['e-bay']\n",
      "['e', 'bay', 'is', 'a', 'company']\n"
     ]
    }
   ],
   "source": [
    "# words with optional internal hyphens\n",
    "text='e-bay is a company'\n",
    "y=re.findall('\\w+',text) # e-bay is seperated\n",
    "print(y)\n",
    "y1=re.findall('[a-z]{1,}-[a-z]{1,}',text) # only e-bay is captured\n",
    "print(y1)\n",
    "y2=re.findall('\\w+(?:-\\w+)*',text) # now correct\n",
    "print(y)"
   ]
  },
  {
   "cell_type": "code",
   "execution_count": 3,
   "metadata": {},
   "outputs": [
    {
     "name": "stdout",
     "output_type": "stream",
     "text": [
      "['$12.5', '$13']\n"
     ]
    }
   ],
   "source": [
    "# currency\n",
    "text='the stock price $12.5. Tomorrowy it will be $13'\n",
    "y=re.findall('\\$\\d+(?:\\.\\d+)?',text) # \\$\\d+\\.?\\d* will also work\n",
    "print(y)\n"
   ]
  },
  {
   "cell_type": "code",
   "execution_count": 4,
   "metadata": {},
   "outputs": [
    {
     "name": "stdout",
     "output_type": "stream",
     "text": [
      "['12.5%', '13%']\n"
     ]
    }
   ],
   "source": [
    "# percentage\n",
    "text='the return is 12.5%. Tomorrowy it will be 13%'\n",
    "y=re.findall('\\d+(?:\\.\\d+)?%',text)\n",
    "print(y)"
   ]
  },
  {
   "cell_type": "code",
   "execution_count": null,
   "metadata": {},
   "outputs": [],
   "source": []
  }
 ],
 "metadata": {
  "kernelspec": {
   "display_name": "Python 3",
   "language": "python",
   "name": "python3"
  },
  "language_info": {
   "codemirror_mode": {
    "name": "ipython",
    "version": 3
   },
   "file_extension": ".py",
   "mimetype": "text/x-python",
   "name": "python",
   "nbconvert_exporter": "python",
   "pygments_lexer": "ipython3",
   "version": "3.7.7"
  }
 },
 "nbformat": 4,
 "nbformat_minor": 4
}
