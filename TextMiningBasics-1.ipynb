{
 "cells": [
  {
   "cell_type": "code",
   "execution_count": null,
   "metadata": {},
   "outputs": [],
   "source": []
  },
  {
   "cell_type": "markdown",
   "metadata": {},
   "source": [
    "# 1. list, tuples, set, dictionary"
   ]
  },
  {
   "cell_type": "code",
   "execution_count": 1,
   "metadata": {},
   "outputs": [],
   "source": [
    "# list\n",
    "course = ['History', 'Math', 'Physics', 'CompSci']\n",
    "# print(course[0])#print the first item\n",
    "# print(course[-1])#print the last item'\n",
    "# print(course[4])#list index out of range error\n",
    "# print(course[0:2])#first index is inclusive, second is not inclusive\n",
    "# print(course[:2])#the same as the previous one\n",
    "# print(course[2:])#from the 3rd item all the way to the end\n"
   ]
  },
  {
   "cell_type": "code",
   "execution_count": 2,
   "metadata": {},
   "outputs": [
    {
     "name": "stdout",
     "output_type": "stream",
     "text": [
      "True\n"
     ]
    }
   ],
   "source": [
    "# check something in list\n",
    "print('Math' in course)# will print \"True\""
   ]
  },
  {
   "cell_type": "code",
   "execution_count": null,
   "metadata": {},
   "outputs": [],
   "source": [
    "# append, insert, extend, remove, pop\n",
    "courses.append('Art')#append\n",
    "course.insert(0,'Art')#insert\n",
    "course2=['Education',Biology]\n",
    "course.extend(course2)#add course2 to the course list. You can also use course3=course2+course to combine two lists\n",
    "course.remove('Math')#remove\n",
    "course.pop()#remove the last item\n",
    "popped=course.pop()#keep the popped value"
   ]
  },
  {
   "cell_type": "code",
   "execution_count": null,
   "metadata": {},
   "outputs": [],
   "source": [
    "# index of element in list\n",
    "print(course.index('Math'))#find the position of some item"
   ]
  },
  {
   "cell_type": "code",
   "execution_count": 7,
   "metadata": {},
   "outputs": [
    {
     "data": {
      "text/plain": [
       "['Rocket science', 'Math', 'Physics', 'CompSci']"
      ]
     },
     "execution_count": 7,
     "metadata": {},
     "output_type": "execute_result"
    }
   ],
   "source": [
    "# tuple\n",
    "list1 = ['History', 'Math', 'Physics', 'CompSci']#list is mutable\n",
    "tuple1=('History', 'Math', 'Physics', 'CompSci')#tuple is immutable, we can not edit a tuple, but we can do others\n",
    "#try the following\n",
    "list1[0]='Rocket science'\n",
    "list1\n",
    "# tuple1[0]='Rocket science'"
   ]
  },
  {
   "cell_type": "code",
   "execution_count": 8,
   "metadata": {},
   "outputs": [
    {
     "name": "stdout",
     "output_type": "stream",
     "text": [
      "r b\n"
     ]
    }
   ],
   "source": [
    "# value assignment with tuple\n",
    "x=('r','b')\n",
    "i,j = x\n",
    "print(i,j)"
   ]
  },
  {
   "cell_type": "code",
   "execution_count": 11,
   "metadata": {},
   "outputs": [
    {
     "name": "stdout",
     "output_type": "stream",
     "text": [
      "{'History', 'CompSci', 'Math', 'Physics'}\n"
     ]
    }
   ],
   "source": [
    "# sets\n",
    "cs_course={'History','Math', 'Physics', 'CompSci'}\n",
    "print(cs_course)\n",
    "# every time we run the print, the sequence is different."
   ]
  },
  {
   "cell_type": "code",
   "execution_count": 12,
   "metadata": {},
   "outputs": [
    {
     "name": "stdout",
     "output_type": "stream",
     "text": [
      "{'History', 'CompSci', 'Math', 'Physics'}\n"
     ]
    }
   ],
   "source": [
    "# remove duplicates with set\n",
    "cs_course={'History','Math', 'Physics', 'CompSci','Math'}\n",
    "print(cs_course)"
   ]
  },
  {
   "cell_type": "code",
   "execution_count": 13,
   "metadata": {},
   "outputs": [
    {
     "name": "stdout",
     "output_type": "stream",
     "text": [
      "{3}\n"
     ]
    }
   ],
   "source": [
    "# intersect of two sets\n",
    "set1={1,2,3}\n",
    "set2={3,4,5}\n",
    "print(set1 & set2) # will print {3}"
   ]
  },
  {
   "cell_type": "code",
   "execution_count": 14,
   "metadata": {},
   "outputs": [
    {
     "name": "stdout",
     "output_type": "stream",
     "text": [
      "{1, 2, 3, 4, 5}\n"
     ]
    }
   ],
   "source": [
    "# union of two sets\n",
    "set1={1,2,3}\n",
    "set2={3,4,5}\n",
    "print(set1 | set2) # will print {1,2,3,4,5}"
   ]
  },
  {
   "cell_type": "code",
   "execution_count": 15,
   "metadata": {},
   "outputs": [
    {
     "name": "stdout",
     "output_type": "stream",
     "text": [
      "{1, 2}\n",
      "{4, 5}\n"
     ]
    }
   ],
   "source": [
    "# set difference\n",
    "set1={1,2,3}\n",
    "set2={3,4,5}\n",
    "print(set1-set2) # will print {1,2}\n",
    "print(set2-set1) # will print {4,5}\n",
    "\n",
    "# Explanation: set1 - set2 is equal to the elements present in A but not in B\n",
    "#              set2 - set1 is equal to the elements present in B but not in A\n"
   ]
  },
  {
   "cell_type": "code",
   "execution_count": 16,
   "metadata": {},
   "outputs": [
    {
     "name": "stdout",
     "output_type": "stream",
     "text": [
      "Name\n",
      "Zara\n",
      "Age\n",
      "7\n"
     ]
    }
   ],
   "source": [
    "# dictionary\n",
    "dict = {'Name': 'Zara', 'Age': 7}\n",
    "for key in dict:\n",
    "    print(key) # print out the keys\n",
    "    print(dict[key]) # print out the corresponding values\n"
   ]
  },
  {
   "cell_type": "code",
   "execution_count": 19,
   "metadata": {},
   "outputs": [
    {
     "name": "stdout",
     "output_type": "stream",
     "text": [
      "Name\n",
      "Age\n",
      "Zara\n",
      "7\n",
      "('Name', 'Zara')\n",
      "('Age', 7)\n"
     ]
    }
   ],
   "source": [
    "dict = {'Name': 'Zara', 'Age': 7}\n",
    "for key in dict.keys():\n",
    "    print(key)\n",
    "    \n",
    "for key in dict.values():\n",
    "    print(key)\n",
    "    \n",
    "for key in dict.items():\n",
    "    print(key) #returns tuple"
   ]
  },
  {
   "cell_type": "code",
   "execution_count": 20,
   "metadata": {},
   "outputs": [
    {
     "name": "stdout",
     "output_type": "stream",
     "text": [
      "dict_keys(['Name', 'Age'])\n",
      "dict_values(['Zara', 7])\n",
      "dict_items([('Name', 'Zara'), ('Age', 7)])\n"
     ]
    }
   ],
   "source": [
    "# check the following\n",
    "print(dict.keys())\n",
    "print(dict.values())\n",
    "print(dict.items()) #list of tuples\n"
   ]
  },
  {
   "cell_type": "code",
   "execution_count": 22,
   "metadata": {},
   "outputs": [
    {
     "data": {
      "text/plain": [
       "{'1st entry': 34, '2nd entry': True, '3rd entry': 'Good'}"
      ]
     },
     "execution_count": 22,
     "metadata": {},
     "output_type": "execute_result"
    }
   ],
   "source": [
    "# fill in a dictionary\n",
    "emptydict={}\n",
    "emptydict['1st entry']=34\n",
    "emptydict['2nd entry']=True\n",
    "emptydict['3rd entry']='Good'\n",
    "emptydict"
   ]
  },
  {
   "cell_type": "markdown",
   "metadata": {},
   "source": [
    "# 2. conditionals and booleans\n"
   ]
  },
  {
   "cell_type": "code",
   "execution_count": null,
   "metadata": {},
   "outputs": [],
   "source": [
    "language='Python'\n",
    "if language=='Python':\n",
    "    print('Yes')"
   ]
  },
  {
   "cell_type": "code",
   "execution_count": null,
   "metadata": {},
   "outputs": [],
   "source": [
    "language='Java'\n",
    "if language=='Python':\n",
    "    print('Yes')\n",
    "elif language='scala':\n",
    "    print('Not Sure')\n",
    "else:\n",
    "    print('No')\n"
   ]
  },
  {
   "cell_type": "code",
   "execution_count": null,
   "metadata": {},
   "outputs": [],
   "source": [
    "def programming_lang(language):\n",
    "    if language=='Python':\n",
    "        return True\n",
    "    else:\n",
    "        return False\n",
    "\n",
    "print(programming_lang('Java'))"
   ]
  },
  {
   "cell_type": "code",
   "execution_count": null,
   "metadata": {},
   "outputs": [],
   "source": [
    "user='admin'\n",
    "logged_in=False\n",
    "if user=='admin' and logged_in:\n",
    "    print('admin page')\n",
    "else:\n",
    "    print('bad credentials')"
   ]
  },
  {
   "cell_type": "code",
   "execution_count": 25,
   "metadata": {},
   "outputs": [
    {
     "data": {
      "text/plain": [
       "8.0"
      ]
     },
     "execution_count": 25,
     "metadata": {},
     "output_type": "execute_result"
    }
   ],
   "source": [
    "# the in-line if statement\n",
    "x=8\n",
    "y=1\n",
    "z=x/y if y!=0 else 'Division by zero' \n",
    "# we can use in-line if for simple two option if statements to save efforts. The program calculates the regular division if y is not 0, otherwise, it return \"division by zero\""
   ]
  },
  {
   "cell_type": "code",
   "execution_count": 26,
   "metadata": {},
   "outputs": [],
   "source": [
    "# try except statement\n",
    "# used when you want to see the error but need the program uninterupted\n",
    "try:\n",
    "    z = x/y\n",
    "except TypeError: # you may list the error type and indicate what would be the response\n",
    "    print('not numerical values')\n",
    "except ZeroDivisionError:\n",
    "    print('divided by zero')\n",
    "except:\n",
    "    print('other errors')"
   ]
  },
  {
   "cell_type": "markdown",
   "metadata": {},
   "source": [
    "# 3. loops and interations\n"
   ]
  },
  {
   "cell_type": "code",
   "execution_count": null,
   "metadata": {},
   "outputs": [],
   "source": [
    "nums=[1,3,4,5]\n",
    "for i in nums:\n",
    "    print(i)"
   ]
  },
  {
   "cell_type": "code",
   "execution_count": 27,
   "metadata": {},
   "outputs": [
    {
     "name": "stdout",
     "output_type": "stream",
     "text": [
      "1\n",
      "Found!\n"
     ]
    }
   ],
   "source": [
    "nums=[1,3,4,5]\n",
    "for i in nums:\n",
    "    if i==3:\n",
    "        print('Found!')\n",
    "        break\n",
    "    print(i)#after the number is found, the print will not be executed."
   ]
  },
  {
   "cell_type": "code",
   "execution_count": 28,
   "metadata": {},
   "outputs": [
    {
     "name": "stdout",
     "output_type": "stream",
     "text": [
      "the number is 1, and the letter is a\n",
      "the number is 1, and the letter is b\n",
      "the number is 1, and the letter is c\n",
      "the number is 3, and the letter is a\n",
      "the number is 3, and the letter is b\n",
      "the number is 3, and the letter is c\n",
      "the number is 4, and the letter is a\n",
      "the number is 4, and the letter is b\n",
      "the number is 4, and the letter is c\n",
      "the number is 5, and the letter is a\n",
      "the number is 5, and the letter is b\n",
      "the number is 5, and the letter is c\n"
     ]
    }
   ],
   "source": [
    "nums=[1,3,4,5]\n",
    "for i in nums:\n",
    "    for j in 'abc':\n",
    "        print('the number is {}, and the letter is {}'.format(i,j))"
   ]
  },
  {
   "cell_type": "code",
   "execution_count": 29,
   "metadata": {},
   "outputs": [
    {
     "name": "stdout",
     "output_type": "stream",
     "text": [
      "0\n",
      "1\n",
      "2\n",
      "3\n",
      "4\n",
      "5\n",
      "6\n",
      "7\n",
      "8\n",
      "9\n"
     ]
    }
   ],
   "source": [
    "i=0\n",
    "while i<10:\n",
    "    print(i)\n",
    "    i += 1"
   ]
  },
  {
   "cell_type": "code",
   "execution_count": null,
   "metadata": {},
   "outputs": [],
   "source": [
    "i=0\n",
    "while True:\n",
    "    print(i)\n",
    "    i += 1"
   ]
  },
  {
   "cell_type": "code",
   "execution_count": 33,
   "metadata": {},
   "outputs": [
    {
     "data": {
      "text/plain": [
       "[1, 3, 5, 7, 9]"
      ]
     },
     "execution_count": 33,
     "metadata": {},
     "output_type": "execute_result"
    }
   ],
   "source": [
    "#this is an infinite loop, to break it, press ctrl + C\n",
    "# we can use this structure, but we need a condition to break the loop.\n",
    "# inline loop\n",
    "x = [x for x in range(0,10,2)] ##increment by 2 \n",
    "# x\n",
    "# another example\n",
    "x = [1,2,3,4,5,6,7,8,9,10]\n",
    "y = [x for x in x if x % 2==1] # only the odd numbers in list x\n",
    "y"
   ]
  },
  {
   "cell_type": "code",
   "execution_count": 34,
   "metadata": {},
   "outputs": [
    {
     "name": "stdout",
     "output_type": "stream",
     "text": [
      "the 0th value is B\n",
      "the 1th value is A\n",
      "the 2th value is N\n",
      "the 3th value is 6\n",
      "the 4th value is 7\n",
      "the 5th value is 5\n"
     ]
    }
   ],
   "source": [
    "for index,value in enumerate('BAN675'):\n",
    "    print('the {}th value is {}'.format(index,value))"
   ]
  },
  {
   "cell_type": "markdown",
   "metadata": {},
   "source": [
    "# 4. class"
   ]
  },
  {
   "cell_type": "code",
   "execution_count": 35,
   "metadata": {},
   "outputs": [
    {
     "data": {
      "text/plain": [
       "'\\ncreate a class. It is like a blueprint. Use pass if you want to skip the function\\nor class for now.\\nEach instance of the class may have different attributes and actions\\n'"
      ]
     },
     "execution_count": 35,
     "metadata": {},
     "output_type": "execute_result"
    }
   ],
   "source": [
    "class Employee:\n",
    "    pass\n",
    "'''\n",
    "create a class. It is like a blueprint. Use pass if you want to skip the function\n",
    "or class for now.\n",
    "Each instance of the class may have different attributes and actions\n",
    "'''\n"
   ]
  },
  {
   "cell_type": "code",
   "execution_count": 36,
   "metadata": {},
   "outputs": [],
   "source": [
    "#create employee instances\n",
    "emp_1=Employee()\n",
    "emp_2=Employee()"
   ]
  },
  {
   "cell_type": "code",
   "execution_count": 37,
   "metadata": {},
   "outputs": [],
   "source": [
    "#define some attributes\n",
    "emp_1.first='xxx'\n",
    "emp_1.last='yyy'\n",
    "emp_1.email='xy@company.com'\n",
    "emp_1.pay=50000"
   ]
  },
  {
   "cell_type": "code",
   "execution_count": 38,
   "metadata": {},
   "outputs": [],
   "source": [
    "emp_2.first='test'\n",
    "emp_2.last='user'\n",
    "emp_2.email='testuser@company.com'\n",
    "emp_2.pay=60000"
   ]
  },
  {
   "cell_type": "code",
   "execution_count": 39,
   "metadata": {},
   "outputs": [
    {
     "name": "stdout",
     "output_type": "stream",
     "text": [
      "xy@company.com\n",
      "testuser@company.com\n"
     ]
    }
   ],
   "source": [
    "#print out emails\n",
    "print(emp_1.email)\n",
    "print(emp_2.email)"
   ]
  },
  {
   "cell_type": "code",
   "execution_count": 40,
   "metadata": {},
   "outputs": [
    {
     "data": {
      "text/plain": [
       "\"\\nBut you don't see any benefit in doing so, because we have to create employees manually\\n, and we may make mistakes\\n\""
      ]
     },
     "execution_count": 40,
     "metadata": {},
     "output_type": "execute_result"
    }
   ],
   "source": [
    "'''\n",
    "But you don't see any benefit in doing so, because we have to create employees manually\n",
    ", and we may make mistakes\n",
    "'''"
   ]
  },
  {
   "cell_type": "markdown",
   "metadata": {},
   "source": [
    "# 5. __init__ method"
   ]
  },
  {
   "cell_type": "code",
   "execution_count": 41,
   "metadata": {},
   "outputs": [
    {
     "data": {
      "text/plain": [
       "\"\\nThe init method. We may call it constructor. The first argument is the instance\\nitself. We can call it other than 'self', but it is better to stick to convention.\\nThe next step is to create employee instance by passing the values specified in the\\ninit method.\\n\""
      ]
     },
     "execution_count": 41,
     "metadata": {},
     "output_type": "execute_result"
    }
   ],
   "source": [
    "class Employee:\n",
    "\n",
    "    def __init__(self,first,last,pay):\n",
    "        self.first=first\n",
    "        self.last=last\n",
    "        self.pay=pay\n",
    "        self.email=first+'.'+last+'@company.com'\n",
    "\n",
    "'''\n",
    "The init method. We may call it constructor. The first argument is the instance\n",
    "itself. We can call it other than 'self', but it is better to stick to convention.\n",
    "The next step is to create employee instance by passing the values specified in the\n",
    "init method.\n",
    "'''"
   ]
  },
  {
   "cell_type": "code",
   "execution_count": null,
   "metadata": {},
   "outputs": [],
   "source": [
    "#create employees, the instance will passed automatically\n",
    "emp_1=Employee('xxx','yyy',50000)\n",
    "emp_2=Employee('test','user',60000)\n"
   ]
  },
  {
   "cell_type": "code",
   "execution_count": 42,
   "metadata": {},
   "outputs": [
    {
     "name": "stdout",
     "output_type": "stream",
     "text": [
      "xy@company.com\n",
      "testuser@company.com\n"
     ]
    }
   ],
   "source": [
    "print(emp_1.email)\n",
    "print(emp_2.email)"
   ]
  },
  {
   "cell_type": "markdown",
   "metadata": {},
   "source": [
    "# 6. creating methods"
   ]
  },
  {
   "cell_type": "code",
   "execution_count": null,
   "metadata": {},
   "outputs": [],
   "source": [
    "class Employee:\n",
    "\n",
    "    def __init__(self,first,last,pay):\n",
    "        self.first=first\n",
    "        self.last=last\n",
    "        self.pay=pay\n",
    "        self.email=first+'.'+last+'@company.com'\n",
    "\n",
    "    def fullname(self):\n",
    "        return '{}, {}'.format(self.last,self.first)\n",
    "        #this is to set the format of the output\n",
    "        \n",
    "'''\n",
    "This is to create a function to print the employee's full name. The argument needed\n",
    "is the instance it self.\n",
    "'''\n"
   ]
  },
  {
   "cell_type": "code",
   "execution_count": null,
   "metadata": {},
   "outputs": [],
   "source": [
    "emp_1=Employee('xxx','yyy',50000)\n",
    "emp_2=Employee('test','user',60000)\n"
   ]
  },
  {
   "cell_type": "code",
   "execution_count": null,
   "metadata": {},
   "outputs": [],
   "source": [
    "print(emp_1.fullname())\n",
    "print(emp_2.fullname())"
   ]
  },
  {
   "cell_type": "code",
   "execution_count": null,
   "metadata": {},
   "outputs": [],
   "source": [
    "#now try a different way\n",
    "print(Employee.fullname(emp_1))\n",
    "print(Employee.fullname(emp_2))"
   ]
  },
  {
   "cell_type": "markdown",
   "metadata": {},
   "source": [
    "# 7. class variables\n"
   ]
  },
  {
   "cell_type": "code",
   "execution_count": null,
   "metadata": {},
   "outputs": [],
   "source": [
    "class Employee:\n",
    "\n",
    "    raise_amount=1.04\n",
    "\n",
    "    def __init__(self,first,last,pay):\n",
    "        self.first=first\n",
    "        self.last=last\n",
    "        self.pay=pay\n",
    "        self.email=first+'.'+last+'@company.com'\n",
    "\n",
    "    def apply_raise(self):\n",
    "        self.pay=int(self.pay*Employee.raise_amount)\n"
   ]
  },
  {
   "cell_type": "code",
   "execution_count": null,
   "metadata": {},
   "outputs": [],
   "source": [
    "emp_1=Employee('xxx','yyy',50000)\n",
    "emp_2=Employee('test','user',60000)\n"
   ]
  },
  {
   "cell_type": "code",
   "execution_count": null,
   "metadata": {},
   "outputs": [],
   "source": [
    "print(emp_1.pay)\n",
    "emp_1.apply_raise()\n",
    "print(emp_1.pay)"
   ]
  },
  {
   "cell_type": "code",
   "execution_count": null,
   "metadata": {},
   "outputs": [],
   "source": [
    "# another way to do it\n",
    "print(emp_2.pay)\n",
    "Employee.apply_raise(emp_2)\n",
    "print(emp_2.pay)"
   ]
  },
  {
   "cell_type": "markdown",
   "metadata": {},
   "source": [
    "# 8. External variables\n"
   ]
  },
  {
   "cell_type": "code",
   "execution_count": 43,
   "metadata": {},
   "outputs": [
    {
     "name": "stdout",
     "output_type": "stream",
     "text": [
      "500.0\n"
     ]
    }
   ],
   "source": [
    "class employee:\n",
    "   \n",
    "    def __init__(self,first,last,pay):\n",
    "        self.first=first\n",
    "        self.last=last\n",
    "        self.pay=pay\n",
    "        self.email=first+'.'+last+'@company.com'\n",
    "\n",
    "    def bonus(self,firm_earning):\n",
    "        self.bonus=firm_earning*0.05 # suppose the bonus is 10% of the firm earning. You need to include external variables as one of the arguments in the method.\n",
    "\n",
    "\n",
    "#emp1=employee\n",
    "# firm_earning = 5000\n",
    "emp1=employee('xxx','yyy',50000)\n",
    "emp1.bonus(10000) # call the bonus method to give the employee a bonus\n",
    "print(emp1.bonus) # print out that bonus"
   ]
  },
  {
   "cell_type": "markdown",
   "metadata": {},
   "source": [
    "# 9. open and close files"
   ]
  },
  {
   "cell_type": "code",
   "execution_count": 48,
   "metadata": {},
   "outputs": [
    {
     "name": "stdout",
     "output_type": "stream",
     "text": [
      "False\n",
      "True\n"
     ]
    }
   ],
   "source": [
    "f=open('code.txt','r')\n",
    "'''no directory is needed since the text.txt\n",
    "is placed in the same director as the .py file\n",
    "'r' means to read the file\n",
    "'''\n",
    "# print(f.name)\n",
    "# print(f.mode)#the mode of the file object. Now is 'r'\n",
    "print(f.closed)\n",
    "f.close() #close the file\n",
    "print(f.closed)"
   ]
  },
  {
   "cell_type": "markdown",
   "metadata": {},
   "source": [
    "# 10. use with block to automatically close files\n"
   ]
  },
  {
   "cell_type": "code",
   "execution_count": 50,
   "metadata": {},
   "outputs": [
    {
     "name": "stdout",
     "output_type": "stream",
     "text": [
      "True\n"
     ]
    }
   ],
   "source": [
    "'''\n",
    "instead of close the file manually, we can use with\n",
    "After the with block, the file is automatically closed\n",
    "'''\n",
    "with open('code.txt','r') as f:\n",
    "    pass\n",
    "print(f.closed)#it will return 'true'\n"
   ]
  },
  {
   "cell_type": "markdown",
   "metadata": {},
   "source": [
    "# 11. different types of file reads\n"
   ]
  },
  {
   "cell_type": "code",
   "execution_count": 55,
   "metadata": {},
   "outputs": [
    {
     "name": "stdout",
     "output_type": "stream",
     "text": [
      "1. list, tuples, set, dictionary\n",
      "\n",
      "\n",
      "\n"
     ]
    }
   ],
   "source": [
    "with open('code.txt','r') as f:\n",
    "    f_contents=f.readline()# readline() will read the next line\n",
    "    print(f_contents)\n",
    "    f_contents1=f.readline()\n",
    "    print(f_contents1)\n",
    "\n",
    "# # to get rid of the new line symbol\n",
    "with open('code.txt','r') as f:\n",
    "    f_content=f.readline()\n",
    "    print(f_content.strip('\\n'))\n",
    "    f_content=f.readline()\n",
    "    print(f_content.strip('\\n'))\n",
    "\n",
    "#read each line and form a list\n",
    "with open('test.txt','r') as f:\n",
    "    f_contents=f.readlines()\n",
    "    print(f_contents)"
   ]
  },
  {
   "cell_type": "code",
   "execution_count": 58,
   "metadata": {},
   "outputs": [
    {
     "name": "stdout",
     "output_type": "stream",
     "text": [
      "Topic&AuthorInfor\n",
      "\n",
      "7\n",
      "\n"
     ]
    }
   ],
   "source": [
    "f=open('test.txt','r')\n",
    "f_contents=f.readline()# readline() will read the next line\n",
    "print(f_contents)\n",
    "f_contents=f.readline()# readline() will read the next line\n",
    "print(f_contents)"
   ]
  },
  {
   "cell_type": "code",
   "execution_count": 93,
   "metadata": {},
   "outputs": [
    {
     "name": "stdout",
     "output_type": "stream",
     "text": [
      "Topic&AuthorInfor\n",
      "7\n",
      "7139 \n",
      "Guess the we\n",
      "['ekend low (16-17/11/2013) 0.1bitcoin prize\\n', 'freethink2013\\n', '694\\n', '224\\n', 'April 12,  2013\\n', 'November 15, 2013, 10:13:10 PM\\n', 'Thanks']\n"
     ]
    }
   ],
   "source": [
    "f=open('test.txt','r')\n",
    "f_contents=f.readline()# readline() will read the next line\n",
    "print(f_contents.strip('\\n'))\n",
    "f_contents=f.read(20)# readline() will read the next line\n",
    "print(f_contents.strip('\\n'))\n",
    "f_contents=f.readlines()\n",
    "print(f_contents)"
   ]
  },
  {
   "cell_type": "code",
   "execution_count": 129,
   "metadata": {},
   "outputs": [
    {
     "name": "stdout",
     "output_type": "stream",
     "text": [
      "Topic\n",
      "\n"
     ]
    }
   ],
   "source": [
    "f=open('test.txt','r')\n",
    "f_contents=f.readline(10)# \n",
    "print(f_contents)"
   ]
  },
  {
   "cell_type": "code",
   "execution_count": 130,
   "metadata": {},
   "outputs": [
    {
     "name": "stdout",
     "output_type": "stream",
     "text": [
      "Topic\n",
      "&\n",
      "Author\n",
      "Infor\n"
     ]
    }
   ],
   "source": [
    "f=open('test.txt','r')\n",
    "f_contents1=f.read(20)# readline() will read the next line\n",
    "print(f_contents1)"
   ]
  },
  {
   "cell_type": "code",
   "execution_count": 128,
   "metadata": {},
   "outputs": [
    {
     "name": "stdout",
     "output_type": "stream",
     "text": [
      "['Topic&AuthorInfor\\n', '7\\n', '7139 \\n', 'Guess the weekend low (16-17/11/2013) 0.1bitcoin prize\\n', 'freethink2013\\n', '694\\n', '224\\n', 'April 12,  2013\\n', 'November 15, 2013, 10:13:10 PM\\n', 'Thanks']\n"
     ]
    }
   ],
   "source": [
    "f=open('test.txt','r')\n",
    "f_contents=f.readlines()\n",
    "print(f_contents)"
   ]
  },
  {
   "cell_type": "code",
   "execution_count": 71,
   "metadata": {},
   "outputs": [
    {
     "name": "stdout",
     "output_type": "stream",
     "text": [
      "['Topic&AuthorInfor', '7', '7139 ', 'Guess the weekend low (16-17/11/2013) 0.1bitcoin prize', 'freethink2013', '694', '224', 'April 12,  2013', 'November 15, 2013, 10:13:10 PM', 'Thanks']\n"
     ]
    }
   ],
   "source": [
    "f=open('test.txt','r')\n",
    "f_contents=[i.strip('\\n') for i in f.readlines()]\n",
    "print(f_contents)"
   ]
  },
  {
   "cell_type": "code",
   "execution_count": 67,
   "metadata": {},
   "outputs": [],
   "source": [
    "#write a file:\n",
    "#if ban_class file does not exist , the bleow command creates new file and writes to it.\n",
    "f = open('ban_class.txt','w')\n",
    "f.write(\"BAN657\\n\")\n",
    "f.write(\"BAN657==\\n\")\n",
    "f.close()"
   ]
  },
  {
   "cell_type": "code",
   "execution_count": 68,
   "metadata": {},
   "outputs": [
    {
     "data": {
      "text/plain": [
       "14"
      ]
     },
     "execution_count": 68,
     "metadata": {},
     "output_type": "execute_result"
    }
   ],
   "source": [
    "#append to file\n",
    "f = open('ban_class.txt','a')#if w is used in place of a it will overide the file content.\n",
    "f.write('\\nBAN453\\nBAN411')"
   ]
  },
  {
   "cell_type": "markdown",
   "metadata": {},
   "source": [
    "# 12. read files from another directory"
   ]
  },
  {
   "cell_type": "code",
   "execution_count": null,
   "metadata": {},
   "outputs": [],
   "source": [
    "f=open('....../filename.txt','r') # pay attention to the \"/\"\n",
    "print(f.readlines())"
   ]
  },
  {
   "cell_type": "markdown",
   "metadata": {},
   "source": [
    "# 13. write a file"
   ]
  },
  {
   "cell_type": "code",
   "execution_count": null,
   "metadata": {},
   "outputs": [],
   "source": [
    "'''\n",
    "'w' means overwriting a file\n",
    "'a' means append something on a file\n",
    "'''\n",
    "with open('test2.txt','w') as f:\n",
    "    f.write('Text')\n",
    "\n",
    "with open('test2.txt','a') as f:\n",
    "    f.write('Text')"
   ]
  },
  {
   "cell_type": "markdown",
   "metadata": {},
   "source": [
    "# 14. directory navigation"
   ]
  },
  {
   "cell_type": "code",
   "execution_count": null,
   "metadata": {},
   "outputs": [],
   "source": [
    "#place the .py file in the os_module folder to practice\n",
    "import os\n",
    "print(os.getcwd())#get the current working directory\n",
    "os.chdir('/Users/sjtu/Desktop/')#change the directory to the desktop, sjtu is the username\n",
    "print(os.getcwd())\n",
    "print(os.listdir())#list all the files in the directory\n",
    "-"
   ]
  },
  {
   "cell_type": "markdown",
   "metadata": {},
   "source": [
    "# 15. creating folders, the folder properties"
   ]
  },
  {
   "cell_type": "code",
   "execution_count": null,
   "metadata": {},
   "outputs": [],
   "source": [
    "#place the .py file in the os_module folder to practice\n",
    "import os\n",
    "#os.mkdir('new-folder')#create single level folder, if you run this once, it cannot be run a second time, since you already have this folder\n",
    "os.makedirs('new-folder2/sub_dir_1') # create multi level folders\n",
    "os.removedirs('new-folder2/sub_dir_1')#remove directory. \n"
   ]
  },
  {
   "cell_type": "markdown",
   "metadata": {},
   "source": [
    "# 16. operate selected files"
   ]
  },
  {
   "cell_type": "code",
   "execution_count": null,
   "metadata": {},
   "outputs": [],
   "source": [
    "for i in os.listdir():\n",
    "    if i.endswith('.txt'): #only operate files end with .txt\n",
    "        print(i)\n",
    "\n",
    "for i in os.listdir():\n",
    "    if i.startswith('zi'):\n",
    "        print(i)"
   ]
  },
  {
   "cell_type": "code",
   "execution_count": null,
   "metadata": {},
   "outputs": [],
   "source": []
  },
  {
   "cell_type": "code",
   "execution_count": null,
   "metadata": {},
   "outputs": [],
   "source": []
  },
  {
   "cell_type": "code",
   "execution_count": null,
   "metadata": {},
   "outputs": [],
   "source": []
  }
 ],
 "metadata": {
  "kernelspec": {
   "display_name": "Python 3",
   "language": "python",
   "name": "python3"
  },
  "language_info": {
   "codemirror_mode": {
    "name": "ipython",
    "version": 3
   },
   "file_extension": ".py",
   "mimetype": "text/x-python",
   "name": "python",
   "nbconvert_exporter": "python",
   "pygments_lexer": "ipython3",
   "version": "3.7.7"
  }
 },
 "nbformat": 4,
 "nbformat_minor": 4
}
